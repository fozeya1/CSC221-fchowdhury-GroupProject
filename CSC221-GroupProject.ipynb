{
 "cells": [
  {
   "cell_type": "code",
   "execution_count": 28,
   "metadata": {},
   "outputs": [],
   "source": [
    "import urllib.request\n",
    "from bs4 import BeautifulSoup\n",
    "from pandas import DataFrame"
   ]
  },
  {
   "cell_type": "code",
   "execution_count": 29,
   "metadata": {},
   "outputs": [],
   "source": [
    "url = 'https://en.wikipedia.org/wiki/New_Jersey'\n",
    "page = urllib.request.urlopen(url)\n",
    "soup = BeautifulSoup(page, 'lxml')\n",
    "table = soup.find_all('table', class_='wikitable sortable')[0]\n",
    "rows = table.findAll('tr')\n",
    "\n",
    "# get graph title and column headers \n",
    "title = table.caption.find(text=True).strip()\n",
    "headers = [x.find(text=True).strip() for x in table.findAll('th')]\n",
    "columns = [[row.findAll('td')[x].find(text=True).strip() for row in rows if len(row.findAll('td')) == len(headers)] for x in range(len(headers))]\n",
    "        \n",
    "#columns = [Racial composition, 1970, 1990, 2000, 2010]\n",
    "tableDict = {headers[x]:columns[x] for x in range(len(columns))}\n",
    "\n",
    "climateData = DataFrame(tableDict)"
   ]
  },
  {
   "cell_type": "code",
   "execution_count": 25,
   "metadata": {},
   "outputs": [
    {
     "data": {
      "text/html": [
       "<style  type=\"text/css\" >\n",
       "</style><table id=\"T_5fa37249_339b_11eb_9235_98fa9bd2b608\" ><caption>New Jersey racial breakdown of population</caption><thead>    <tr>        <th class=\"blank level0\" ></th>        <th class=\"col_heading level0 col0\" >Racial composition</th>        <th class=\"col_heading level0 col1\" >1970</th>        <th class=\"col_heading level0 col2\" >1990</th>        <th class=\"col_heading level0 col3\" >2000</th>        <th class=\"col_heading level0 col4\" >2010</th>    </tr></thead><tbody>\n",
       "                <tr>\n",
       "                        <th id=\"T_5fa37249_339b_11eb_9235_98fa9bd2b608level0_row0\" class=\"row_heading level0 row0\" >0</th>\n",
       "                        <td id=\"T_5fa37249_339b_11eb_9235_98fa9bd2b608row0_col0\" class=\"data row0 col0\" >White</td>\n",
       "                        <td id=\"T_5fa37249_339b_11eb_9235_98fa9bd2b608row0_col1\" class=\"data row0 col1\" >88.6%</td>\n",
       "                        <td id=\"T_5fa37249_339b_11eb_9235_98fa9bd2b608row0_col2\" class=\"data row0 col2\" >79.3%</td>\n",
       "                        <td id=\"T_5fa37249_339b_11eb_9235_98fa9bd2b608row0_col3\" class=\"data row0 col3\" >72.5%</td>\n",
       "                        <td id=\"T_5fa37249_339b_11eb_9235_98fa9bd2b608row0_col4\" class=\"data row0 col4\" >68.6%</td>\n",
       "            </tr>\n",
       "            <tr>\n",
       "                        <th id=\"T_5fa37249_339b_11eb_9235_98fa9bd2b608level0_row1\" class=\"row_heading level0 row1\" >1</th>\n",
       "                        <td id=\"T_5fa37249_339b_11eb_9235_98fa9bd2b608row1_col0\" class=\"data row1 col0\" >Black</td>\n",
       "                        <td id=\"T_5fa37249_339b_11eb_9235_98fa9bd2b608row1_col1\" class=\"data row1 col1\" >10.7%</td>\n",
       "                        <td id=\"T_5fa37249_339b_11eb_9235_98fa9bd2b608row1_col2\" class=\"data row1 col2\" >13.4%</td>\n",
       "                        <td id=\"T_5fa37249_339b_11eb_9235_98fa9bd2b608row1_col3\" class=\"data row1 col3\" >13.6%</td>\n",
       "                        <td id=\"T_5fa37249_339b_11eb_9235_98fa9bd2b608row1_col4\" class=\"data row1 col4\" >13.7%</td>\n",
       "            </tr>\n",
       "            <tr>\n",
       "                        <th id=\"T_5fa37249_339b_11eb_9235_98fa9bd2b608level0_row2\" class=\"row_heading level0 row2\" >2</th>\n",
       "                        <td id=\"T_5fa37249_339b_11eb_9235_98fa9bd2b608row2_col0\" class=\"data row2 col0\" >Asian</td>\n",
       "                        <td id=\"T_5fa37249_339b_11eb_9235_98fa9bd2b608row2_col1\" class=\"data row2 col1\" >0.3%</td>\n",
       "                        <td id=\"T_5fa37249_339b_11eb_9235_98fa9bd2b608row2_col2\" class=\"data row2 col2\" >3.5%</td>\n",
       "                        <td id=\"T_5fa37249_339b_11eb_9235_98fa9bd2b608row2_col3\" class=\"data row2 col3\" >5.7%</td>\n",
       "                        <td id=\"T_5fa37249_339b_11eb_9235_98fa9bd2b608row2_col4\" class=\"data row2 col4\" >8.3%</td>\n",
       "            </tr>\n",
       "            <tr>\n",
       "                        <th id=\"T_5fa37249_339b_11eb_9235_98fa9bd2b608level0_row3\" class=\"row_heading level0 row3\" >3</th>\n",
       "                        <td id=\"T_5fa37249_339b_11eb_9235_98fa9bd2b608row3_col0\" class=\"data row3 col0\" >Native</td>\n",
       "                        <td id=\"T_5fa37249_339b_11eb_9235_98fa9bd2b608row3_col1\" class=\"data row3 col1\" >0.1%</td>\n",
       "                        <td id=\"T_5fa37249_339b_11eb_9235_98fa9bd2b608row3_col2\" class=\"data row3 col2\" >0.2%</td>\n",
       "                        <td id=\"T_5fa37249_339b_11eb_9235_98fa9bd2b608row3_col3\" class=\"data row3 col3\" >0.2%</td>\n",
       "                        <td id=\"T_5fa37249_339b_11eb_9235_98fa9bd2b608row3_col4\" class=\"data row3 col4\" >0.3%</td>\n",
       "            </tr>\n",
       "            <tr>\n",
       "                        <th id=\"T_5fa37249_339b_11eb_9235_98fa9bd2b608level0_row4\" class=\"row_heading level0 row4\" >4</th>\n",
       "                        <td id=\"T_5fa37249_339b_11eb_9235_98fa9bd2b608row4_col0\" class=\"data row4 col0\" >Native Hawaiian</td>\n",
       "                        <td id=\"T_5fa37249_339b_11eb_9235_98fa9bd2b608row4_col1\" class=\"data row4 col1\" >–</td>\n",
       "                        <td id=\"T_5fa37249_339b_11eb_9235_98fa9bd2b608row4_col2\" class=\"data row4 col2\" >–</td>\n",
       "                        <td id=\"T_5fa37249_339b_11eb_9235_98fa9bd2b608row4_col3\" class=\"data row4 col3\" >–</td>\n",
       "                        <td id=\"T_5fa37249_339b_11eb_9235_98fa9bd2b608row4_col4\" class=\"data row4 col4\" >–</td>\n",
       "            </tr>\n",
       "            <tr>\n",
       "                        <th id=\"T_5fa37249_339b_11eb_9235_98fa9bd2b608level0_row5\" class=\"row_heading level0 row5\" >5</th>\n",
       "                        <td id=\"T_5fa37249_339b_11eb_9235_98fa9bd2b608row5_col0\" class=\"data row5 col0\" >Other race</td>\n",
       "                        <td id=\"T_5fa37249_339b_11eb_9235_98fa9bd2b608row5_col1\" class=\"data row5 col1\" >0.3%</td>\n",
       "                        <td id=\"T_5fa37249_339b_11eb_9235_98fa9bd2b608row5_col2\" class=\"data row5 col2\" >3.6%</td>\n",
       "                        <td id=\"T_5fa37249_339b_11eb_9235_98fa9bd2b608row5_col3\" class=\"data row5 col3\" >5.4%</td>\n",
       "                        <td id=\"T_5fa37249_339b_11eb_9235_98fa9bd2b608row5_col4\" class=\"data row5 col4\" >6.4%</td>\n",
       "            </tr>\n",
       "            <tr>\n",
       "                        <th id=\"T_5fa37249_339b_11eb_9235_98fa9bd2b608level0_row6\" class=\"row_heading level0 row6\" >6</th>\n",
       "                        <td id=\"T_5fa37249_339b_11eb_9235_98fa9bd2b608row6_col0\" class=\"data row6 col0\" >Two or more races</td>\n",
       "                        <td id=\"T_5fa37249_339b_11eb_9235_98fa9bd2b608row6_col1\" class=\"data row6 col1\" >–</td>\n",
       "                        <td id=\"T_5fa37249_339b_11eb_9235_98fa9bd2b608row6_col2\" class=\"data row6 col2\" >–</td>\n",
       "                        <td id=\"T_5fa37249_339b_11eb_9235_98fa9bd2b608row6_col3\" class=\"data row6 col3\" >2.5%</td>\n",
       "                        <td id=\"T_5fa37249_339b_11eb_9235_98fa9bd2b608row6_col4\" class=\"data row6 col4\" >2.7%</td>\n",
       "            </tr>\n",
       "    </tbody></table>"
      ],
      "text/plain": [
       "<pandas.io.formats.style.Styler at 0x1c6066671f0>"
      ]
     },
     "execution_count": 25,
     "metadata": {},
     "output_type": "execute_result"
    }
   ],
   "source": [
    "climateData.style.set_caption(title)"
   ]
  }
 ],
 "metadata": {
  "kernelspec": {
   "display_name": "Python 3",
   "language": "python",
   "name": "python3"
  },
  "language_info": {
   "codemirror_mode": {
    "name": "ipython",
    "version": 3
   },
   "file_extension": ".py",
   "mimetype": "text/x-python",
   "name": "python",
   "nbconvert_exporter": "python",
   "pygments_lexer": "ipython3",
   "version": "3.8.3"
  }
 },
 "nbformat": 4,
 "nbformat_minor": 4
}
